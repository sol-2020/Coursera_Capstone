{
 "cells": [
  {
   "cell_type": "markdown",
   "metadata": {},
   "source": [
    "# Applied Data Science Capstone"
   ]
  },
  {
   "cell_type": "markdown",
   "metadata": {},
   "source": [
    "## Week 4 Peer-Graded Assignment : Capstone Project - The Battle of Neighborhoods (Week 1)"
   ]
  },
  {
   "cell_type": "markdown",
   "metadata": {},
   "source": [
    "## Kenny Lu"
   ]
  },
  {
   "cell_type": "markdown",
   "metadata": {},
   "source": [
    "In this assignment, I will explore, segment, and cluster the neighborhoods in the New York City, to find suitable locations to open a Chinese Restaurant in the New York City.\n",
    "<ol>\n",
    "    <li><b>A description of the problem and a discussion of the background.</b></li>\n",
    "    <li>A description of the data and how it will be used to solve the problem.</li>\n",
    "</ol>    \n",
    "\n",
    "In this task, we will focus on the first question."
   ]
  },
  {
   "cell_type": "markdown",
   "metadata": {},
   "source": [
    "## Introduction"
   ]
  },
  {
   "cell_type": "markdown",
   "metadata": {},
   "source": [
    "New York is a city located in Bronx County New York. With a 2020 population of 8,323,338, it is the largest city in New York and the largest city in the United States. New York is currently declining at a rate of -0.45% annually but its population has increased by 1.81% since the most recent census, which recorded a population of 8,175,133 in 2010. New York reached it's highest population of 8,475,976 in 2016. Spanning over 468 miles, New York has a population density of 27,709 people per square mile."
   ]
  },
  {
   "cell_type": "markdown",
   "metadata": {},
   "source": [
    "The city features five separate boroughs: Staten Island, The Bronx, Brooklyn, Queens, and Manhattan. As many as 800 languages are spoken throughout New York City, making it the most diverse city in the world when it comes to linguistic multiplicity."
   ]
  },
  {
   "cell_type": "markdown",
   "metadata": {},
   "source": [
    "According to the most recent ACS, the racial composition of New York City was:\n",
    "<ul>\n",
    "    <li>White: 42.67%</li>\n",
    "    <li>Black or African American: 24.27%</li>\n",
    "    <li>Other race: 15.12%</li>\n",
    "    <li><b>Asian: 13.95%</b></li>\n",
    "    <li>Two or more races: 3.51%</li>\n",
    "    <li>Native American: 0.43%</li>\n",
    "    <li>Native Hawaiian or Pacific Islander: 0.05%</li>\n",
    "</ul>"
   ]
  },
  {
   "cell_type": "markdown",
   "metadata": {},
   "source": [
    "With it’s diverse culture , comes diverse food items. There are many restaurants in New York City, each belonging to different categories like Chinese , Indian , French etc."
   ]
  },
  {
   "cell_type": "markdown",
   "metadata": {},
   "source": [
    "Our client had set their target on the<b> Asian (13.95%)</b> of New York City population, and wish to find suitable locations to open a <b>Chinese Restaurant</b> in the New York City. \n",
    "<ul>\n",
    "    <li>What is best location in New York City for Chinese Cuisine ?</li>\n",
    "    <li>Which areas have potential Chinese Resturant Market ?</li>\n",
    "    <li>Which all areas lack Chinese Resturants ?</li>\n",
    "    <li>Which is the best place to stay if I prefer Chinese Cuisine ?</li>\n",
    "</ul>"
   ]
  },
  {
   "cell_type": "markdown",
   "metadata": {},
   "source": [
    "So as part of this project , we will list and visualise all major parts of New York City that has great Chinese Restaurants."
   ]
  },
  {
   "cell_type": "code",
   "execution_count": null,
   "metadata": {},
   "outputs": [],
   "source": []
  }
 ],
 "metadata": {
  "kernelspec": {
   "display_name": "Python",
   "language": "python",
   "name": "conda-env-python-py"
  },
  "language_info": {
   "codemirror_mode": {
    "name": "ipython",
    "version": 3
   },
   "file_extension": ".py",
   "mimetype": "text/x-python",
   "name": "python",
   "nbconvert_exporter": "python",
   "pygments_lexer": "ipython3",
   "version": "3.6.10"
  }
 },
 "nbformat": 4,
 "nbformat_minor": 4
}
