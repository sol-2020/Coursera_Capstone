{
 "cells": [
  {
   "cell_type": "markdown",
   "metadata": {},
   "source": [
    "# Applied Data Science Capstone"
   ]
  },
  {
   "cell_type": "markdown",
   "metadata": {},
   "source": [
    "## Week 4 Peer-Graded Assignment : Capstone Project - The Battle of Neighborhoods (Week 1)"
   ]
  },
  {
   "cell_type": "markdown",
   "metadata": {},
   "source": [
    "## Kenny Lu"
   ]
  },
  {
   "cell_type": "markdown",
   "metadata": {},
   "source": [
    "In this assignment, I will explore, segment, and cluster the neighborhoods in the New York City, to find suitable locations to open a Chinese Restaurant in the New York City.\n",
    "<ol>\n",
    "    <li>A description of the problem and a discussion of the background.</li>\n",
    "    <li><b>A description of the data and how it will be used to solve the problem.</b></li>\n",
    "</ol>    \n",
    "\n",
    "In this task, we will focus on the Second question."
   ]
  },
  {
   "cell_type": "markdown",
   "metadata": {},
   "source": [
    "## Data"
   ]
  },
  {
   "cell_type": "markdown",
   "metadata": {},
   "source": [
    "For this project we need the following data :\n",
    "<ul>\n",
    "    <li><b>New York City</b> data that contains list Boroughs, Neighborhoods along with their latitude and longitude.\n",
    "      <ul>\n",
    "          <li>Data source : <a href = 'https://cocl.us/new_york_dataset'>'https://cocl.us/new_york_dataset</a> </li>\n",
    "        <li>Description : This data set contains the required information. And we will use this data set to explore various neighborhoods of new york city.\n",
    "        </li>\n",
    "        <li>An extract of the json is as follows:<br>             \n",
    "            {'type': 'Feature',<br>\n",
    "            'id': 'nyu_2451_34572.306',<br>\n",
    "            'geometry': {'type': 'Point',<br>\n",
    "            'coordinates': [-74.08173992211962, 40.61731079252983]},<br>\n",
    "            'geometry_name': 'geom',<br>\n",
    "            'properties': {'name': 'Fox Hills',<br>\n",
    "            'stacked': 2,<br>\n",
    "            'annoline1': 'Fox',<br>\n",
    "            'annoline2': 'Hills',<br>\n",
    "            'annoline3': None,<br>\n",
    "            'annoangle': 0.0,<br>\n",
    "            'borough': 'Staten Island',<br>\n",
    "            'bbox': [-74.08173992211962,<br>\n",
    "            40.61731079252983,<br>\n",
    "            -74.08173992211962,<br>\n",
    "            40.61731079252983]}}<br>          \n",
    "         </li>    \n",
    "      </ul>    \n",
    "    </li>\n",
    "    <li><b>Chinese Resturants</b> in each neighborhood of the New York City.\n",
    "      <ul>\n",
    "        <li>Data source : Fousquare API </li>\n",
    "        <li>Description : By using this api we will get all the venues in each neighborhood. We can filter these venues to get only indian resturants.</li>\n",
    "        <li>An extract of an API call is as follows:<br>\n",
    "            'categories': [{'id': '4bf58dd8d48988d110941735',<br>\n",
    "            'name': 'Chinese Restaurant',<br>\n",
    "            'pluralName': 'Chinese Restaurants',<br>\n",
    "            'shortName': 'Chinese',<br>\n",
    "            'icon': {'prefix': 'https://ss3.4sqi.net/img/categories_v2/food/Chinese_',<br>\n",
    "            'suffix': '.png'},<br>\n",
    "            'primary': True}],<br>\n",
    "            'verified': False,<br>\n",
    "            'stats': {'tipCount': 17},<br>\n",
    "            'url': 'http://eccorestaurantny.com',<br>\n",
    "            'price': {'tier': 4, 'message': 'Very Expensive', 'currency'<br>\n",
    "        </li>    \n",
    "      </ul>    \n",
    "    </li>    \n",
    "    <li><b>GeoSpace data</b> \n",
    "      <ul>\n",
    "        <li>Data source : <a href = 'https://data.cityofnewyork.us/City-Government/Borough-Boundaries/tqmj-j8zm'>https://data.cityofnewyork.us/City-Government/Borough-Boundaries/tqmj-j8zm</a> </li>\n",
    "        <li>Description : By using this geo space data we will get the New york Borough boundaries that will help us visualize choropleth map.</li>\n",
    "      </ul>    \n",
    "    </li>     \n",
    "</ul>     "
   ]
  },
  {
   "cell_type": "markdown",
   "metadata": {},
   "source": [
    "## Approach"
   ]
  },
  {
   "cell_type": "markdown",
   "metadata": {},
   "source": [
    "<ul>\n",
    "    <li>Collect the New York City data from <a href = 'https://cocl.us/new_york_dataset'>https://cocl.us/new_york_dataset</a> </li>\n",
    "    <li>geopy to get co-ordinates of City of New York.</li>\n",
    "    <li>Using FourSquare API we will find all venues for each neighborhood.</li>\n",
    "    <li>Exploratory Data Analysis</li>\n",
    "    <li>Data Cleaning</li>    \n",
    "    <li>Feature Engineering</li>    \n",
    "    <li>Filter out all venues that are Chinese Resturants.</li>\n",
    "    <li>Find rating , tips and like count for each Chinese Resturants using FourSquare API.</li>\n",
    "    <li>Using rating for each resturant , we will sort that data.</li>\n",
    "    <li>Data Visualization, Visualize the Ranking of neighborhoods using Folium library(python)</li>    \n",
    "</ul>    \n"
   ]
  },
  {
   "cell_type": "markdown",
   "metadata": {},
   "source": [
    "So as part of this project , we will analyse and visualise all major parts of New York City that has great Chinese Restaurants."
   ]
  },
  {
   "cell_type": "code",
   "execution_count": null,
   "metadata": {},
   "outputs": [],
   "source": []
  }
 ],
 "metadata": {
  "kernelspec": {
   "display_name": "Python",
   "language": "python",
   "name": "conda-env-python-py"
  },
  "language_info": {
   "codemirror_mode": {
    "name": "ipython",
    "version": 3
   },
   "file_extension": ".py",
   "mimetype": "text/x-python",
   "name": "python",
   "nbconvert_exporter": "python",
   "pygments_lexer": "ipython3",
   "version": "3.6.10"
  }
 },
 "nbformat": 4,
 "nbformat_minor": 4
}
